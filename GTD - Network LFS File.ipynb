version https://git-lfs.github.com/spec/v1
oid sha256:e076dabff34d6dd12734307f4ed9e0c597936ccedc058e5efc43498c76e512d2
size 92614829
