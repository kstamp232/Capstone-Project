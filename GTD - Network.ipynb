version https://git-lfs.github.com/spec/v1
oid sha256:f67d4dcdb8af6841543cf98dea7e1df9e48a1a7e234f91554f3b2e38b24b18cd
size 36592
