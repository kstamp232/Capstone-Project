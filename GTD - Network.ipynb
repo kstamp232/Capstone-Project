{
 "cells": [
  {
   "cell_type": "code",
   "execution_count": null,
   "id": "1bd93619",
   "metadata": {},
   "outputs": [],
   "source": [
    "import numpy as np\n",
    "import pandas as pd\n",
    "import matplotlib.pyplot as plt\n",
    "from matplotlib import cm\n",
    "import seaborn as sns\n",
    "import networkx as nx\n",
    "\n",
    "plt.style.use('ggplot')\n",
    "%matplotlib inline\n",
    "%config InlineBackend.figure_format = 'retina'"
   ]
  },
  {
   "cell_type": "markdown",
   "id": "14997fb2",
   "metadata": {},
   "source": [
    "# Reading in the data "
   ]
  },
  {
   "cell_type": "code",
   "execution_count": null,
   "id": "d4966558",
   "metadata": {},
   "outputs": [],
   "source": [
    "df = pd.read_csv('/Users/KStamp/Desktop/Katie Stamp - DSI20 - LDN/Cleaned Datasets/final_gtd.csv', index_col=['Unnamed: 0'])"
   ]
  },
  {
   "cell_type": "code",
   "execution_count": null,
   "id": "362fb54b",
   "metadata": {},
   "outputs": [],
   "source": [
    "df.head(2)"
   ]
  },
  {
   "cell_type": "code",
   "execution_count": null,
   "id": "cd2f6281",
   "metadata": {},
   "outputs": [],
   "source": [
    "# returning the country codes back to the original names for ease of network visability\n",
    "df['country_txt'] = df.country.replace({4 : 'Afghanistan',\n",
    "5 :' Albania',\n",
    "6 : 'Algeria',\n",
    "7 : 'Andorra',\n",
    "8 : 'Angola',\n",
    "10 : 'Antigua and Barbuda', \n",
    "11 : 'Argentina',\n",
    "12 : 'Armenia',\n",
    "14 : 'Australia',\n",
    "15: 'Austria',\n",
    "16 : 'Azerbaijan',\n",
    "17 : 'Bahamas',\n",
    "18 : 'Bahrain',\n",
    "19 : 'Bangladesh',\n",
    "20 : 'Barbados',\n",
    "21 : 'Belgium',\n",
    "22 :'Belize',\n",
    "23 : 'Benin',\n",
    "24 : 'Bermuda',\n",
    "25 : 'Bhutan',\n",
    "26 : 'Bolivia',\n",
    "28 : 'Bosnia-Herzegovina',\n",
    "29 : 'Botswana',\n",
    "30 : 'Brazil',\n",
    "31 : 'Brunei',\n",
    "32 : 'Bulgaria',\n",
    "33 : 'Burkina_Faso',\n",
    "34 : 'Burundi',\n",
    "35 : 'Belarus',\n",
    "36 : 'Cambodia',\n",
    "37 : 'Cameroon',\n",
    "38 : 'Canada',\n",
    "41 : 'Central_African_Republic', \n",
    "42 : 'Chad',\n",
    "43 :'Chile',\n",
    "44 : 'China',\n",
    "45 : 'Colombia',\n",
    "46 : 'Comoros',\n",
    "47 : 'Republic_of_the_Congo',\n",
    "49 : 'Costa_Rica',\n",
    "50 : 'Croatia',\n",
    "51 : 'Cuba',\n",
    "53 : 'Cyprus',\n",
    "54: 'Czech_Republic',\n",
    "55 : 'Denmark',\n",
    "56 : 'Djibouti',\n",
    "57 : 'Dominica',\n",
    "58 : 'Dominican_Republic',\n",
    "59 : 'Ecuador',\n",
    "60 : 'Egypt',\n",
    "61 : 'El_Salvador',\n",
    "62 : 'Equatorial_Guinea', \n",
    "63 : 'Eritrea',\n",
    "64 : 'Estonia',\n",
    "65 : 'Ethiopia',\n",
    "66 : 'Falkland_Islands', \n",
    "67 : 'Fiji',\n",
    "68 : 'Finland',\n",
    "69 :'France',\n",
    "70 : 'French_Guiana', \n",
    "71 : 'French_Polynesia', \n",
    "72 : 'Gabon',\n",
    "73 : 'Gambia',\n",
    "74 :'Georgia',\n",
    "75 : 'Germany',\n",
    "76 : 'Ghana',\n",
    "78 : 'Greece',\n",
    "79 : 'Greenland',\n",
    "80 : 'Grenada',\n",
    "81 : 'Guadeloupe',\n",
    "83 : 'Guatemala',\n",
    "84 : 'Guinea',\n",
    "85 : 'Guinea-Bissau', \n",
    "86 : 'Guyana',\n",
    "87 : 'Haiti',\n",
    "88 : 'Honduras',\n",
    "89 : 'Hong_Kong',\n",
    "90 : 'Hungary',\n",
    "91 : 'Iceland',\n",
    "92 : 'India',\n",
    "93 : 'Indonesia',\n",
    "94 :'Iran',\n",
    "95 : 'Iraq',\n",
    "96 : 'Ireland',\n",
    "97 : 'Israel',\n",
    "98 : 'Italy',\n",
    "99 : 'Ivory_Coast',\n",
    "100 : 'Jamaica',\n",
    "101 : 'Japan',\n",
    "102 : 'Jordan',\n",
    "103 : 'Kazakhstan',\n",
    "104: 'Kenya',\n",
    "106 : 'Kuwait',\n",
    "107 : 'Kyrgyzstan',\n",
    "108 : 'Laos',\n",
    "109: 'Latvia',\n",
    "110 :'Lebanon',\n",
    "111 : 'Lesotho',\n",
    "112 : 'Liberia',\n",
    "113 : 'Libya',\n",
    "114 : 'Liechtenstein',\n",
    "115 : 'Lithuania',\n",
    "116 : 'Luxembourg',\n",
    "117 : 'Macau',\n",
    "118 : 'Macedonia',\n",
    "119 : 'Madagascar',\n",
    "120 : 'Malawi',\n",
    "121 : 'Malaysia',\n",
    "122 : 'Maldives',\n",
    "123 : 'Mali',\n",
    "124 : 'Malta',\n",
    "125 : 'Isle_of_Man',\n",
    "126 : 'Marshall_Islands',\n",
    "127 : 'Martinique',\n",
    "128 : 'Mauritania',\n",
    "129 : 'Mauritius',\n",
    "130 : 'Mexico',\n",
    "132 : 'Moldova',\n",
    "134 : 'Mongolia',\n",
    "136 : 'Morocco',\n",
    "137 : 'Mozambique',\n",
    "138 : 'Myanmar',\n",
    "139 : 'Namibia',\n",
    "141 : 'Nepal',\n",
    "142 : 'Netherlands',\n",
    "143 : 'New_Caledonia',\n",
    "144 : 'New_Zealand',\n",
    "145 : 'Nicaragua',\n",
    "146 : 'Niger',\n",
    "147 : 'Nigeria',\n",
    "149 : 'North_Korea',\n",
    "151 : 'Norway',\n",
    "152 : 'Oman',\n",
    "153 : 'Pakistan',\n",
    "155 : 'West_Bank and Gaza_Strip', \n",
    "156 : 'Panama',\n",
    "157 : 'Papua_New_Guinea', \n",
    "158 : 'Paraguay',\n",
    "159 : 'Peru',\n",
    "160 : 'Philippines',\n",
    "161 : 'Poland',\n",
    "162 : 'Portugal',\n",
    "163 : 'Puerto_Rico',\n",
    "164 : 'Qatar',\n",
    "166 : 'Romania',\n",
    "167 : 'Russia',\n",
    "168 : 'Rwanda',\n",
    "169 : 'Saba(Netherlands_Antilles)',\n",
    "173 : 'Saudi_Arabia',\n",
    "174 : 'Senegal',\n",
    "175 : 'Serbia-Montenegro', \n",
    "176 : 'Seychelles',\n",
    "177 : 'Sierra_Leone',\n",
    "178 : 'Singapore',\n",
    "179 : 'Slovak_Republic',\n",
    "180 : 'Slovenia',\n",
    "181 : 'Solomon_Islands', \n",
    "182 : 'Somalia',\n",
    "183 : 'South_Africa',\n",
    "184 : 'South_Korea',\n",
    "185 : 'Spain',\n",
    "186 : 'Sri_Lanka',\n",
    "189 : 'St.Kitts and Nevis', \n",
    "190 : 'St.Lucia',\n",
    "192 : 'St.Martin',\n",
    "195 : 'Sudan',\n",
    "196 : 'Suriname',\n",
    "197 : 'Swaziland',\n",
    "198 : 'Sweden',\n",
    "199 : 'Switzerland',\n",
    "200 : 'Syria',\n",
    "201 : 'Taiwan',\n",
    "202 : 'Tajikistan',\n",
    "203 : 'Tanzania',\n",
    "204 : 'Togo',\n",
    "205 : 'Thailand',\n",
    "206 : 'Tonga',\n",
    "207 : 'Trinidad and Tobago', \n",
    "208 : 'Tunisia',\n",
    "209 : 'Turkey',\n",
    "210 : 'Turkmenistan',\n",
    "212 : 'Tuvalu',\n",
    "213 : 'Uganda',\n",
    "214 : 'Ukraine',\n",
    "215 : 'United_Arab_Emirates', \n",
    "216 : 'Great_Britain',\n",
    "217 : 'United_States',\n",
    "218 : 'Uruguay',\n",
    "219 : 'Uzbekistan',\n",
    "220 : 'Vanuatu',\n",
    "221 : 'Vatican_City',\n",
    "222 : 'Venezuela',\n",
    "223 : 'Vietnam',\n",
    "225 : 'Virgin_Islands_(U.S)',\n",
    "226 : 'Wallis and Futuna',\n",
    "228 : 'Yemen',\n",
    "603 : 'United_Kingdom',\n",
    "362 : 'West_Germany',\n",
    "604 :  'Zaire',\n",
    "406 : 'South_Yemen',\n",
    "230 : 'Zambia',\n",
    "1003 : 'Kosovo',\n",
    "229 : 'Democratic Republic of the Congo'})"
   ]
  },
  {
   "cell_type": "code",
   "execution_count": null,
   "id": "139a29fa",
   "metadata": {},
   "outputs": [],
   "source": [
    "df"
   ]
  },
  {
   "cell_type": "code",
   "execution_count": null,
   "id": "04dc7005",
   "metadata": {},
   "outputs": [],
   "source": [
    "df.country_txt.unique()"
   ]
  },
  {
   "cell_type": "code",
   "execution_count": null,
   "id": "7ae1a235",
   "metadata": {},
   "outputs": [],
   "source": [
    "df.head()"
   ]
  },
  {
   "cell_type": "markdown",
   "id": "e208bb7e",
   "metadata": {},
   "source": [
    "# Creating a bipartite network between terrorist group and country"
   ]
  },
  {
   "cell_type": "code",
   "execution_count": null,
   "id": "1b97ae90",
   "metadata": {},
   "outputs": [],
   "source": [
    "from networkx.algorithms import bipartite\n",
    "\n",
    "B = nx.Graph()\n",
    "# Add the node attribute \"bipartite\"\n",
    "B.add_nodes_from(df['gname'], bipartite=0)\n",
    "B.add_nodes_from(df['country_txt'], bipartite=1)\n",
    "B.add_edges_from(list(zip(df['gname'], df['country_txt'])))"
   ]
  },
  {
   "cell_type": "code",
   "execution_count": null,
   "id": "70159589",
   "metadata": {},
   "outputs": [],
   "source": [
    "print(nx.info(B))"
   ]
  },
  {
   "cell_type": "code",
   "execution_count": null,
   "id": "86582274",
   "metadata": {},
   "outputs": [],
   "source": [
    "bottom_nodes, top_nodes = bipartite.sets(B)\n",
    "print(\"First group:\", bottom_nodes, \"\\n\")\n",
    "print(\"Second group:\", top_nodes)"
   ]
  },
  {
   "cell_type": "code",
   "execution_count": null,
   "id": "24fbdcb6",
   "metadata": {},
   "outputs": [],
   "source": [
    "position = list(zip([0]*len(bottom_nodes), list(range(len(bottom_nodes))))) + \\\n",
    "    list(zip([1]*len(top_nodes), list(range(len(top_nodes)))))\n",
    "\n",
    "positions = {}\n",
    "for i, node in enumerate(bottom_nodes):\n",
    "    positions[node] = np.array(position[i])\n",
    "for i, node in enumerate(top_nodes):\n",
    "    positions[node] = np.array(position[i+len(bottom_nodes)])"
   ]
  },
  {
   "cell_type": "code",
   "execution_count": null,
   "id": "0a302f36",
   "metadata": {},
   "outputs": [],
   "source": [
    "positions"
   ]
  },
  {
   "cell_type": "code",
   "execution_count": null,
   "id": "ac7e00c4",
   "metadata": {},
   "outputs": [],
   "source": [
    "# plotting positions to show connections\n",
    "plt.figure(figsize=(62,48))\n",
    "\n",
    "pos = nx.spring_layout(B)\n",
    "nx.draw(B, pos=positions, with_labels=True, node_color='white', font_size=15, edge_color='gray', style='dashed')\n",
    "nx.draw_networkx_nodes(bipartite.projected_graph(B, bottom_nodes),\n",
    "                       pos=positions, node_color='red', node_size=1000, alpha=0.5)\n",
    "nx.draw_networkx_nodes(bipartite.projected_graph(B, top_nodes),\n",
    "                       pos=positions, node_color='gold', node_size=1000, alpha=0.5)\n",
    "plt.title(\"Terrorist Group vs Country Neural Network \", fontsize=50)\n",
    "plt.show()"
   ]
  },
  {
   "cell_type": "markdown",
   "id": "03c58596",
   "metadata": {},
   "source": [
    "We can see that groups such a muslim extremists have a large amount of links, meaning they have attacked multiple countries, we could hypothesise that they will therefore be connected to a larger network of terrorist groups."
   ]
  },
  {
   "cell_type": "code",
   "execution_count": null,
   "id": "bae6d362",
   "metadata": {},
   "outputs": [],
   "source": [
    "G_top = bipartite.projected_graph(B, top_nodes)\n",
    "G_bottom = bipartite.projected_graph(B, bottom_nodes)"
   ]
  },
  {
   "cell_type": "code",
   "execution_count": null,
   "id": "34fd273b",
   "metadata": {},
   "outputs": [],
   "source": [
    "# Plotting the network between terrorist groups\n",
    "plt.figure(figsize=(32,28))\n",
    "nx.draw(G_bottom, with_labels=True, node_color='red', edge_color='gray', style='dashed', font_size=25)"
   ]
  },
  {
   "cell_type": "markdown",
   "id": "32a2d8e7",
   "metadata": {},
   "source": [
    "As predicted we can see that there is a large amount of links to and from muslim extremists, pointing to a network of terrorism other groups such as national liberation front are solely linked to one other group the nicaraguan democratic front, we can hypothesis that the country they attack and that their agenda is more localised."
   ]
  },
  {
   "cell_type": "code",
   "execution_count": null,
   "id": "632f29a9",
   "metadata": {},
   "outputs": [],
   "source": [
    "# Plotting the network of countries\n",
    "plt.figure(figsize=(32,28))\n",
    "nx.draw(G_top, with_labels=True, node_color='gold', edge_color='gray', style='dashed', font_size=25)"
   ]
  },
  {
   "cell_type": "markdown",
   "id": "054918f7",
   "metadata": {},
   "source": [
    "The network is not arranged by latitude or longitude at the moment, yet we can see the connections between continents we can see South American countries connected in the bottom right and a collection of European countries in the middle of the network."
   ]
  },
  {
   "cell_type": "code",
   "execution_count": null,
   "id": "8f282ade",
   "metadata": {},
   "outputs": [],
   "source": [
    "# plotting degree distribution of Terrorist Groups\n",
    "d_max = max(dict(B.degree()).values())\n",
    "plt.hist(dict(nx.degree(bipartite.projected_graph(B, bottom_nodes))).values(),\n",
    "          bins=np.linspace(0, d_max, d_max+1), align='left', rwidth=0.5)\n",
    "plt.xlabel('Degree')\n",
    "plt.ylabel('Counts')\n",
    "plt.title('Degree Distribution Terrorist Groups')\n",
    "plt.show()   "
   ]
  },
  {
   "cell_type": "code",
   "execution_count": null,
   "id": "e203bb00",
   "metadata": {},
   "outputs": [],
   "source": [
    "# plotting degree distribution of countries\n",
    "d_max = max(dict(B.degree()).values())\n",
    "plt.hist(dict(nx.degree(bipartite.projected_graph(B, top_nodes))).values(),\n",
    "          bins=np.linspace(0, d_max, d_max+1), align='left', rwidth=0.5)\n",
    "plt.xlabel('Degree')\n",
    "plt.ylabel('Counts')\n",
    "plt.title('Degree Distribution Countries')\n",
    "plt.show()"
   ]
  },
  {
   "cell_type": "markdown",
   "id": "38bf9b52",
   "metadata": {},
   "source": [
    "The degree distributions show closer links within the terrorist groups than the countries themselves, the highest number of connections within the terrorist groups is 25, whilst the countries have the larger count of 50.\n",
    "\n",
    "It also appears that the smaller the degrees of connections within the terrorist group the higher the count, whereas the degrees of connections with countries are opposed to this."
   ]
  },
  {
   "cell_type": "code",
   "execution_count": null,
   "id": "56d2e9d4",
   "metadata": {},
   "outputs": [],
   "source": [
    "# computing the clustering coefficient for nodes\n",
    "nx.clustering(bipartite.projected_graph(B, bottom_nodes))"
   ]
  },
  {
   "cell_type": "code",
   "execution_count": null,
   "id": "af3a0099",
   "metadata": {},
   "outputs": [],
   "source": [
    "nx.average_clustering(bipartite.projected_graph(B, bottom_nodes))"
   ]
  },
  {
   "cell_type": "code",
   "execution_count": null,
   "id": "795e6dd0",
   "metadata": {},
   "outputs": [],
   "source": [
    "nx.clustering(bipartite.projected_graph(B, top_nodes))"
   ]
  },
  {
   "cell_type": "code",
   "execution_count": null,
   "id": "8ae3f6ef",
   "metadata": {},
   "outputs": [],
   "source": [
    "nx.average_clustering(bipartite.projected_graph(B, top_nodes))"
   ]
  },
  {
   "cell_type": "code",
   "execution_count": null,
   "id": "9ec41c68",
   "metadata": {},
   "outputs": [],
   "source": [
    "# plotting clustering coefficient distribution of Terrorist Groups\n",
    "plt.hist(list(nx.clustering(bipartite.projected_graph(B, bottom_nodes)).values()),\n",
    "         align='left', rwidth=0.5)\n",
    "plt.xlabel('Clustering coefficient')\n",
    "plt.ylabel('Counts')\n",
    "plt.title('Clustering coefficient distribution - Terrorist Groups')\n",
    "plt.show()"
   ]
  },
  {
   "cell_type": "code",
   "execution_count": null,
   "id": "4916dbcd",
   "metadata": {},
   "outputs": [],
   "source": [
    "# plotting clustering coefficient distribution of Countries\n",
    "plt.hist(list(nx.clustering(bipartite.projected_graph(B, top_nodes)).values()),\n",
    "         align='left', rwidth=0.5)\n",
    "plt.xlabel('Clustering coefficient')\n",
    "plt.ylabel('Counts')\n",
    "plt.title('Clustering coefficient distribution - Countries')\n",
    "plt.show()"
   ]
  },
  {
   "cell_type": "markdown",
   "id": "cce55451",
   "metadata": {},
   "source": [
    "Both the terrorist groups and the countries are showing how well connected the neighborhood of each node is. The most frequent coefficient in both groups is '1' showing that there are large qtys of connections in the each group."
   ]
  },
  {
   "cell_type": "code",
   "execution_count": null,
   "id": "100a22c3",
   "metadata": {},
   "outputs": [],
   "source": [
    "print(\"Adjacency matrix of the bipartite graph:\")\n",
    "print(nx.adjacency_matrix(B).todense())"
   ]
  },
  {
   "cell_type": "code",
   "execution_count": null,
   "id": "d197a678",
   "metadata": {},
   "outputs": [],
   "source": [
    "# plotting adjacency matrix\n",
    "plt.figure(figsize=(32,28))\n",
    "plt.spy(nx.adjacency_matrix(B), markersize=20)\n",
    "plt.show()"
   ]
  },
  {
   "cell_type": "markdown",
   "id": "ca1088ac",
   "metadata": {},
   "source": [
    "The graph shows a perfect symmetry diagonally, meaning a one way relationship between group and country."
   ]
  },
  {
   "cell_type": "code",
   "execution_count": null,
   "id": "5a62e17d",
   "metadata": {},
   "outputs": [],
   "source": [
    " nx.clustering(B)"
   ]
  },
  {
   "cell_type": "markdown",
   "id": "e67b2fee",
   "metadata": {},
   "source": [
    "The one way relationship is confirmed above, with a result of 0 clusters."
   ]
  },
  {
   "cell_type": "code",
   "execution_count": null,
   "id": "bc057b41",
   "metadata": {},
   "outputs": [],
   "source": [
    "# reviewing the paths between terrorist groups\n",
    "nx.shortest_path_length(B, source='Taliban')"
   ]
  },
  {
   "cell_type": "markdown",
   "id": "c4b9433f",
   "metadata": {},
   "source": [
    "We can use shortest length to show connections between terrorist groups, for example above, the taliban has a 1 path connection to turkemenistan, pakistan, afghanistan denoting these countries are most likeliy to be attacked by the taliban we can also say that there are 6 groups who are only 2 connections away from taliban, denoting to the factthat they have attacked the same countries and therefore have similar agendas."
   ]
  },
  {
   "cell_type": "code",
   "execution_count": null,
   "id": "19c22bd6",
   "metadata": {},
   "outputs": [],
   "source": [
    "# reviewing the paths between countries\n",
    "nx.shortest_path_length(B, source='United_States')"
   ]
  },
  {
   "cell_type": "markdown",
   "id": "12af8b5c",
   "metadata": {},
   "source": [
    "We can use shortest length to show connections between countries, for example above, united states has a 1 path connection to 5 groups denoting these countries are most likeliy to be attacked by the them, such as IRA. We can also say that there are over 50 countries who are only 2 connections away from united states, denoting to the fact that they have been attacked by the same groups."
   ]
  },
  {
   "cell_type": "code",
   "execution_count": null,
   "id": "f37dd87b",
   "metadata": {},
   "outputs": [],
   "source": [
    "# evaluating 'betweenness'\n",
    "node_centrality = nx.betweenness_centrality(B)\n",
    "edge_centrality = nx.edge_betweenness_centrality(B)"
   ]
  },
  {
   "cell_type": "code",
   "execution_count": null,
   "id": "d508a218",
   "metadata": {},
   "outputs": [],
   "source": [
    "node_centrality"
   ]
  },
  {
   "cell_type": "code",
   "execution_count": null,
   "id": "94c908df",
   "metadata": {},
   "outputs": [],
   "source": [
    "node_corr = pd.DataFrame(list(node_centrality.items()), columns=['node', 'centrality'])"
   ]
  },
  {
   "cell_type": "code",
   "execution_count": null,
   "id": "e4fad59a",
   "metadata": {},
   "outputs": [],
   "source": [
    "edge_corr = pd.DataFrame(list(edge_centrality.items()), columns=['edge', 'centrality'])"
   ]
  },
  {
   "cell_type": "code",
   "execution_count": null,
   "id": "4b69566c",
   "metadata": {},
   "outputs": [],
   "source": [
    "sns.heatmap(node_corr.corr());"
   ]
  },
  {
   "cell_type": "code",
   "execution_count": null,
   "id": "b5301a38",
   "metadata": {},
   "outputs": [],
   "source": [
    "sns.heatmap(edge_corr.corr());"
   ]
  },
  {
   "cell_type": "code",
   "execution_count": null,
   "id": "a69dcb0a",
   "metadata": {},
   "outputs": [],
   "source": [
    "edge_centrality"
   ]
  },
  {
   "cell_type": "code",
   "execution_count": null,
   "id": "9a6c4170",
   "metadata": {},
   "outputs": [],
   "source": [
    "# plot to show nodes with highest level of importance \n",
    "plt.figure(figsize=(52,38))\n",
    "plt.barh(list(range(len(list(node_centrality.values())))),\n",
    "         list(node_centrality.values()))\n",
    "plt.yticks(list(range(len(node_centrality))), list(node_centrality.keys()))\n",
    "plt.title('Node betweenness centrality')\n",
    "plt.show() "
   ]
  },
  {
   "cell_type": "markdown",
   "id": "aa821394",
   "metadata": {},
   "source": [
    "As predicted previously we can see that muslim extremists have the highest 'betweeness' meaning this group would serve as a bridge from one part of a graph to another."
   ]
  },
  {
   "cell_type": "code",
   "execution_count": null,
   "id": "4bceec84",
   "metadata": {},
   "outputs": [],
   "source": [
    "# plot to show edges with the highest level of importance\n",
    "plt.figure(figsize=(52,38))\n",
    "plt.barh(list(range(len(list(edge_centrality.values())))),\n",
    "         list(edge_centrality.values()))\n",
    "plt.yticks(list(range(len(edge_centrality))), list(edge_centrality.keys()))\n",
    "plt.title('Edge betweenness centrality')\n",
    "plt.show() "
   ]
  },
  {
   "cell_type": "markdown",
   "id": "a8eaa7d0",
   "metadata": {},
   "source": [
    "Here the highest edge betweeness is the terrorist group M-19 (Movement of April '19) and country Lebonan with Muslim Extremists and Mali as the second most connected edge. "
   ]
  },
  {
   "cell_type": "code",
   "execution_count": null,
   "id": "d84aac9b",
   "metadata": {},
   "outputs": [],
   "source": [
    "import copy\n",
    "\n",
    "def breaking_graph(H, node_list):\n",
    "    # define the new graph as the subgraph induced by the GCC\n",
    "    n_l = copy.deepcopy(node_list)\n",
    "    # continue deleting nodes from the GCC while the graph consists of a\n",
    "    # single component (num_components=1)\n",
    "    num_components = 1\n",
    "    count = 0\n",
    "    while num_components == 1:\n",
    "        count += 1\n",
    "        #node_to_delete = random.choice(H.nodes())\n",
    "        # select at random an element in the node list or\n",
    "        # select a node according to the betweenness ranking\n",
    "        # (the last in the list)\n",
    "        node_to_delete = n_l.pop()\n",
    "        H.remove_node(node_to_delete)\n",
    "        num_components = nx.number_connected_components(H)\n",
    "    return count "
   ]
  },
  {
   "cell_type": "code",
   "execution_count": null,
   "id": "2f336f35",
   "metadata": {},
   "outputs": [],
   "source": [
    "# how many times did it have to break to take the giant component down\n",
    "G_GCC = B.copy()\n",
    "random_list = copy.deepcopy(list(G_GCC.nodes()))\n",
    "np.random.shuffle(random_list)\n",
    "\n",
    "c = breaking_graph(G_GCC, random_list)\n",
    "\n",
    "print(\"num of iterations:\", c)"
   ]
  },
  {
   "cell_type": "code",
   "execution_count": null,
   "id": "986b3f6f",
   "metadata": {},
   "outputs": [],
   "source": [
    "plt.figure(figsize=(32,28))\n",
    "graphviz_pos = nx.drawing.layout.spring_layout(G_GCC)\n",
    "nx.draw(G_GCC, graphviz_pos, node_size=200,\n",
    "        with_labels=True)"
   ]
  },
  {
   "cell_type": "code",
   "execution_count": null,
   "id": "7455e557",
   "metadata": {},
   "outputs": [],
   "source": [
    "# average iterations to break the network\n",
    "n_iter = 1000\n",
    "count = 0.0\n",
    "for i in range(n_iter):\n",
    "    G_GCC = B.copy()\n",
    "    random_list = copy.deepcopy(list(G_GCC.nodes()))\n",
    "    np.random.shuffle(random_list)\n",
    "    c = breaking_graph(G_GCC, random_list)\n",
    "    count += c\n",
    "\n",
    "print(\"average iterations to break GCC:\", count/n_iter)"
   ]
  },
  {
   "cell_type": "markdown",
   "id": "aadd40a5",
   "metadata": {},
   "source": [
    "On average it takes 7.577 random nodes to break the network (splitting mostly countries from the group) \n",
    "\n",
    "7.577/139 nodes = 5% "
   ]
  },
  {
   "cell_type": "code",
   "execution_count": null,
   "id": "698224c4",
   "metadata": {},
   "outputs": [],
   "source": [
    "import operator\n",
    "\n",
    "G_GCC = B.copy()\n",
    "\n",
    "node_centrality = nx.betweenness_centrality(G_GCC)\n",
    "\n",
    "sorted_bc = sorted(list(node_centrality.items()), \n",
    "                   key=operator.itemgetter(1))\n",
    "\n",
    "# selecting the ranked node list\n",
    "node_ranking = [item[0] for item in sorted_bc]\n",
    "\n",
    "c = breaking_graph(G_GCC, node_ranking)\n",
    "\n",
    "print(\"num of iterations:\", c)"
   ]
  },
  {
   "cell_type": "code",
   "execution_count": null,
   "id": "6005fda7",
   "metadata": {},
   "outputs": [],
   "source": [
    "n_iter = 1000\n",
    "count = 0.0\n",
    "for i in range(n_iter):\n",
    "    G_GCC = B.copy()\n",
    "    c = breaking_graph(G_GCC, node_ranking)\n",
    "    count += c\n",
    "\n",
    "print(\"average iterations to break GCC:\", count/n_iter)"
   ]
  },
  {
   "cell_type": "markdown",
   "id": "a1d5cbad",
   "metadata": {},
   "source": [
    "The function found the nodes with the highest centrality only took 1 iteration to break - everytime (1000 iterations), it will always be removing the node with the highest centruality."
   ]
  },
  {
   "cell_type": "code",
   "execution_count": null,
   "id": "ddc55617",
   "metadata": {},
   "outputs": [],
   "source": [
    "# plotting betweenness centrality\n",
    "plt.hist(list(node_centrality.values()),\n",
    "         bins=np.logspace(-3*np.log(5), -1*np.log(4), 20))\n",
    "plt.title('Betweenness centrality')\n",
    "plt.show()"
   ]
  },
  {
   "cell_type": "markdown",
   "id": "597661a5",
   "metadata": {},
   "source": [
    "We can see high qtys of low betweenness centrality meaning overal there were low amounts of influence a node has over the flow of information in a graph."
   ]
  },
  {
   "cell_type": "code",
   "execution_count": null,
   "id": "57c2a6b3",
   "metadata": {},
   "outputs": [],
   "source": [
    "# plotting the network with drop in components\n",
    "def Girvan_Newman(G_1):\n",
    "    G = G_1.copy()\n",
    "    pos = nx.drawing.spring_layout(G)\n",
    "    sorted_bc = [1]\n",
    "    actual_number_components = 1\n",
    "    while not sorted_bc == []:\n",
    "        d_edge = nx.edge_betweenness_centrality(G)\n",
    "        sorted_bc = sorted(list(d_edge.items()), key=operator.itemgetter(1))\n",
    "        e = sorted_bc.pop()\n",
    "        print(\"deleting edge:\", e[0], end=' ')\n",
    "        G.remove_edge(*e[0])\n",
    "        num_comp = nx.number_connected_components(G)\n",
    "        print(\"...we have now \", num_comp, \" components\")\n",
    "        if num_comp > actual_number_components:\n",
    "            actual_number_components = num_comp\n",
    "            if num_comp < 22:\n",
    "                plt.figure(figsize=(28,20))\n",
    "                nx.draw(G, pos, with_labels=True)\n",
    "                plt.show()"
   ]
  },
  {
   "cell_type": "code",
   "execution_count": null,
   "id": "8f44e11b",
   "metadata": {},
   "outputs": [],
   "source": [
    "Girvan_Newman(B)"
   ]
  },
  {
   "cell_type": "code",
   "execution_count": null,
   "id": "fca67d82",
   "metadata": {},
   "outputs": [],
   "source": [
    "GN_communities = list(nx.community.girvan_newman(B))\n",
    "GN_communities"
   ]
  },
  {
   "cell_type": "code",
   "execution_count": null,
   "id": "c0b4d550",
   "metadata": {},
   "outputs": [],
   "source": [
    "# plotting communities in clusters \n",
    "def plot_communities(G, number_of_clusters=2, seed=1):\n",
    "    GN_communities = list(nx.community.girvan_newman(G))\n",
    "    pos = nx.drawing.spring_layout(G, seed=1)\n",
    "    if number_of_clusters > G.number_of_nodes():\n",
    "        index = G.number_of_nodes()-2\n",
    "    else:\n",
    "        index = number_of_clusters - 2\n",
    "    G_sub = {}\n",
    "\n",
    "    label_dict = {}\n",
    "    for i, nodes in enumerate(GN_communities[index]):\n",
    "        for node in nodes:\n",
    "            label_dict[node] = i \n",
    "    label_list = [label_dict[node] for node in G.nodes()]\n",
    "    \n",
    "    plt.figure(figsize=(32,28))\n",
    "\n",
    "    nx.draw(G, pos=pos, node_color = label_list, cmap='rainbow', with_labels=True)\n",
    "    \n",
    "    plt.show()"
   ]
  },
  {
   "cell_type": "code",
   "execution_count": null,
   "id": "8a751398",
   "metadata": {},
   "outputs": [],
   "source": [
    "plot_communities(B, number_of_clusters=2)"
   ]
  },
  {
   "cell_type": "code",
   "execution_count": null,
   "id": "417b5404",
   "metadata": {},
   "outputs": [],
   "source": [
    "plot_communities(B, number_of_clusters=6)"
   ]
  },
  {
   "cell_type": "code",
   "execution_count": null,
   "id": "2ea49fca",
   "metadata": {},
   "outputs": [],
   "source": [
    "plot_communities(B, number_of_clusters=12)"
   ]
  },
  {
   "cell_type": "markdown",
   "id": "9da671a2",
   "metadata": {},
   "source": [
    "# Shortest Connections In Network"
   ]
  },
  {
   "cell_type": "code",
   "execution_count": null,
   "id": "d531e17b",
   "metadata": {},
   "outputs": [],
   "source": [
    "# shortest connection between UK AND US is IRA\n",
    "nx.shortest_path(B, 'United_Kingdom', 'United_States')"
   ]
  },
  {
   "cell_type": "code",
   "execution_count": null,
   "id": "de452a4f",
   "metadata": {},
   "outputs": [],
   "source": [
    "def shortest_connection(G, start, end):\n",
    "    print(\"The Network Path Length Between Them Is:\", nx.shortest_path_length(G, start, end))\n",
    "    print(\"Shortest Connection Between Them Is:\", nx.shortest_path(G, start, end))"
   ]
  },
  {
   "cell_type": "code",
   "execution_count": null,
   "id": "644f46b6",
   "metadata": {},
   "outputs": [],
   "source": [
    "shortest_connection_path(B, 'United_Kingdom', 'United_States')"
   ]
  },
  {
   "cell_type": "markdown",
   "id": "3187dada",
   "metadata": {},
   "source": [
    "Here we can look at the groups that were incorrectly guessed by our models and their connections."
   ]
  },
  {
   "cell_type": "code",
   "execution_count": null,
   "id": "e0d447f3",
   "metadata": {},
   "outputs": [],
   "source": [
    "shortest_connection(B, 'National Liberation Army of Colombia (ELN)', \n",
    "                         'Revolutionary Armed Forces of Colombia (FARC)')"
   ]
  },
  {
   "cell_type": "code",
   "execution_count": null,
   "id": "cee4bcb3",
   "metadata": {},
   "outputs": [],
   "source": [
    "shortest_connection(B, 'Abu Sayyaf Group (ASG)', \"New People's Army (NPA)\")"
   ]
  },
  {
   "cell_type": "markdown",
   "id": "d020d333",
   "metadata": {},
   "source": [
    "We can see both these groups have a short connection between then with just 1 country as their link so we can begin to understand why the model incorrectly predicted one as the other. (Visually shown further down)."
   ]
  },
  {
   "cell_type": "code",
   "execution_count": null,
   "id": "1748b068",
   "metadata": {},
   "outputs": [],
   "source": [
    "# The diameter is the longest of all shortest paths between any two points.\n",
    "nx.diameter(B, e=None, usebounds=False)"
   ]
  },
  {
   "cell_type": "markdown",
   "id": "6b728226",
   "metadata": {},
   "source": [
    "# Calling in The Dataset With Latitude and Longitude"
   ]
  },
  {
   "cell_type": "code",
   "execution_count": null,
   "id": "20aab3d8",
   "metadata": {},
   "outputs": [],
   "source": [
    "df2 = pd.read_csv('/Users/KStamp/Desktop/geo_code_save.csv', index_col='Unnamed: 0')"
   ]
  },
  {
   "cell_type": "code",
   "execution_count": null,
   "id": "9bcb4d23",
   "metadata": {},
   "outputs": [],
   "source": [
    "df.head()"
   ]
  },
  {
   "cell_type": "code",
   "execution_count": null,
   "id": "88cf8215",
   "metadata": {},
   "outputs": [],
   "source": [
    "df2.head()[['latitude', 'longitude', 'country_txt']]"
   ]
  },
  {
   "cell_type": "code",
   "execution_count": null,
   "id": "cd94e6b6",
   "metadata": {},
   "outputs": [],
   "source": [
    "# merging latitude, longitude, country and terrorist group into one df \n",
    "df3 = df.merge(df2, left_index=True, right_index=True)\n",
    "df3[['latitude', 'longitude', 'country_txt_x', 'gname_x']]"
   ]
  },
  {
   "cell_type": "code",
   "execution_count": null,
   "id": "846497a7",
   "metadata": {},
   "outputs": [],
   "source": [
    "locations = dict(zip(df3['country_txt_x'], df3[['longitude', 'latitude']].values))"
   ]
  },
  {
   "cell_type": "code",
   "execution_count": null,
   "id": "f7bbd887",
   "metadata": {},
   "outputs": [],
   "source": [
    "# Using the option pos in the drawing function to position the nodes according to their \n",
    "# longitudinal and latitudinal coordinates. \n",
    "plt.figure(figsize=(32,28))\n",
    "nx.draw(G_top, pos=locations, with_labels=True, node_color='gold', edge_color='gray', style='dashed', font_size=25)"
   ]
  },
  {
   "cell_type": "markdown",
   "id": "ed4beddc",
   "metadata": {},
   "source": [
    "Here we can see countries have been grouped together by location on a map much clearer than before, Europe is visible in mid-centre, South Africa at the bottom of the network and South American countries under the United States."
   ]
  },
  {
   "cell_type": "code",
   "execution_count": null,
   "id": "37e6df9a",
   "metadata": {},
   "outputs": [],
   "source": [
    "locations_gname = dict(zip(df3['gname_x'], df3[['longitude', 'latitude']].values)) "
   ]
  },
  {
   "cell_type": "code",
   "execution_count": null,
   "id": "4bf9bc8b",
   "metadata": {},
   "outputs": [],
   "source": [
    "# Using the option pos in the drawing function to position the nodes according to their \n",
    "# longitudinal and latitudinal coordinates for terrorist groups.\n",
    "plt.figure(figsize=(32,28))\n",
    "nx.draw(G_bottom, pos=locations_gname, with_labels=True, node_color='red', edge_color='gray', style='dashed', font_size=25)"
   ]
  },
  {
   "cell_type": "markdown",
   "id": "1249aa2b",
   "metadata": {},
   "source": [
    "We can see terrorist groups have been grouped together by location on a map, e.g. African National  Congress is placed where Africa would be on this map of latitude and longitude given, you can start to see more of the relations between groups that attack similiar areas."
   ]
  },
  {
   "cell_type": "code",
   "execution_count": null,
   "id": "2f0e9b66",
   "metadata": {},
   "outputs": [],
   "source": [
    "loc_all = locations.copy()"
   ]
  },
  {
   "cell_type": "code",
   "execution_count": null,
   "id": "31b4a222",
   "metadata": {},
   "outputs": [],
   "source": [
    "loc_all"
   ]
  },
  {
   "cell_type": "code",
   "execution_count": null,
   "id": "28ba0992",
   "metadata": {},
   "outputs": [],
   "source": [
    "loc_all.update(locations_gname)\n",
    "print(loc_all) "
   ]
  },
  {
   "cell_type": "code",
   "execution_count": null,
   "id": "44e7262c",
   "metadata": {},
   "outputs": [],
   "source": [
    "# plotting countries and terrorist groups by latitude and longitude of attacks \n",
    "plt.figure(figsize=(62,58))\n",
    "nx.draw(B, pos=loc_all, with_labels=True, node_color='red', edge_color='gray', style='dashed', font_size=10)"
   ]
  },
  {
   "cell_type": "markdown",
   "id": "f71f5057",
   "metadata": {},
   "source": [
    "This is where we can visualise the relationships between terrorist group, country and the latitude / longitude of the attacks. For example, the connection between Abu Sayyaf Group and New People’s Army (which were two groups our classification model incorrectly predicted) shows us that both organisations performed attacks in the Philippines."
   ]
  },
  {
   "cell_type": "code",
   "execution_count": null,
   "id": "57e4f5dd",
   "metadata": {},
   "outputs": [],
   "source": [
    "# Ideally I would like to take these networks a step further and look at other connections - such as attack \n",
    "# type / weapon type / target type to build up a layer of networks."
   ]
  }
 ],
 "metadata": {
  "kernelspec": {
   "display_name": "Python 3",
   "language": "python",
   "name": "python3"
  },
  "language_info": {
   "codemirror_mode": {
    "name": "ipython",
    "version": 3
   },
   "file_extension": ".py",
   "mimetype": "text/x-python",
   "name": "python",
   "nbconvert_exporter": "python",
   "pygments_lexer": "ipython3",
   "version": "3.8.8"
  }
 },
 "nbformat": 4,
 "nbformat_minor": 5
}
