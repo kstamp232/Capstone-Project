version https://git-lfs.github.com/spec/v1
oid sha256:5ab9fd92dcb612a307576b55e8b5c92611a9b21a84d4b10f2ceb5437e71861f0
size 93232309
